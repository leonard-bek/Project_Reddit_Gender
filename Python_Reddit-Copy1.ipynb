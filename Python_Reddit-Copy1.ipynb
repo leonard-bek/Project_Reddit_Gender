{
 "cells": [
  {
   "cell_type": "code",
   "execution_count": 1,
   "metadata": {},
   "outputs": [],
   "source": [
    "import pandas as pd\n",
    "import datetime as dt\n",
    "from psaw import PushshiftAPI"
   ]
  },
  {
   "cell_type": "code",
   "execution_count": 2,
   "metadata": {},
   "outputs": [],
   "source": [
    "from psaw import PushshiftAPI"
   ]
  },
  {
   "cell_type": "code",
   "execution_count": 3,
   "metadata": {},
   "outputs": [],
   "source": [
    "api = PushshiftAPI()"
   ]
  },
  {
   "cell_type": "code",
   "execution_count": 4,
   "metadata": {},
   "outputs": [],
   "source": [
    "start_epoch_2020=int(dt.datetime(2020, 1, 21).timestamp())\n",
    "end_epoch_2020=int(dt.datetime(2020, 12, 14).timestamp())\n",
    "start_epoch_2019=int(dt.datetime(2019, 1, 21).timestamp())\n",
    "end_epoch_2019=int(dt.datetime(2019, 12, 14).timestamp())"
   ]
  },
  {
   "cell_type": "code",
   "execution_count": 5,
   "metadata": {},
   "outputs": [],
   "source": [
    "subm_list_mommit_2020 = []\n",
    "\n",
    "subm_list_mommit_2020 = list(api.search_submissions(q='',\n",
    "                            before=end_epoch_2020,\n",
    "                            after=start_epoch_2020,               \n",
    "                            subreddit='mommit'))"
   ]
  },
  {
   "cell_type": "code",
   "execution_count": 6,
   "metadata": {},
   "outputs": [],
   "source": [
    "subm_list_mommit_2019 = []\n",
    "\n",
    "subm_list_mommit_2019 = list(api.search_submissions(q='',\n",
    "                            before=end_epoch_2019,\n",
    "                            after=start_epoch_2019,               \n",
    "                            subreddit='mommit'))"
   ]
  },
  {
   "cell_type": "code",
   "execution_count": 7,
   "metadata": {},
   "outputs": [],
   "source": [
    "subm_list_daddit_2020 = []\n",
    "\n",
    "subm_list_daddit_2020 = list(api.search_submissions(q='',\n",
    "                            before=end_epoch_2020,\n",
    "                            after=start_epoch_2020,               \n",
    "                            subreddit='daddit'))"
   ]
  },
  {
   "cell_type": "code",
   "execution_count": 8,
   "metadata": {},
   "outputs": [],
   "source": [
    "subm_list_daddit_2019 = []\n",
    "\n",
    "subm_list_daddit_2019 = list(api.search_submissions(q='',\n",
    "                            before=end_epoch_2019,\n",
    "                            after=start_epoch_2019,               \n",
    "                            subreddit='daddit'))"
   ]
  },
  {
   "cell_type": "code",
   "execution_count": 9,
   "metadata": {},
   "outputs": [],
   "source": [
    "pd.DataFrame([s.d_ for s in subm_list_mommit_2020]).to_csv('subm_mommit_2020.csv', index=False)\n",
    "pd.DataFrame([s.d_ for s in subm_list_mommit_2019]).to_csv('subm_mommit_2019.csv', index=False)\n",
    "pd.DataFrame([s.d_ for s in subm_list_daddit_2020]).to_csv('subm_daddit_2020.csv', index=False)\n",
    "pd.DataFrame([s.d_ for s in subm_list_daddit_2019]).to_csv('subm_daddit_2019.csv', index=False)"
   ]
  },
  {
   "cell_type": "code",
   "execution_count": null,
   "metadata": {},
   "outputs": [],
   "source": []
  }
 ],
 "metadata": {
  "kernelspec": {
   "display_name": "Python 3",
   "language": "python",
   "name": "python3"
  },
  "language_info": {
   "codemirror_mode": {
    "name": "ipython",
    "version": 3
   },
   "file_extension": ".py",
   "mimetype": "text/x-python",
   "name": "python",
   "nbconvert_exporter": "python",
   "pygments_lexer": "ipython3",
   "version": "3.8.10"
  }
 },
 "nbformat": 4,
 "nbformat_minor": 4
}
